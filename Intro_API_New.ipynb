{
 "cells": [
  {
   "cell_type": "markdown",
   "id": "7196054f",
   "metadata": {},
   "source": [
    "# Working with APIs"
   ]
  },
  {
   "cell_type": "markdown",
   "id": "0547b71e",
   "metadata": {},
   "source": [
    "API stands for Application programming interface<br>\n",
    "APIs are a way for applications to talk to eachother<br>\n",
    "In python we use the requests package to handle the connection<br>\n",
    "<small><strong>Note: It is requests with an s not request(this is a different package)</strong></small><br>\n",
    "Most API's communicate with data in the form of JSON<br>\n",
    "JSON stands for JavaScript Object Notation"
   ]
  },
  {
   "cell_type": "code",
   "execution_count": 39,
   "id": "4db9d154",
   "metadata": {},
   "outputs": [],
   "source": [
    "#import the packages we need:\n",
    "import requests, json"
   ]
  },
  {
   "cell_type": "markdown",
   "id": "e8c2ce51",
   "metadata": {},
   "source": [
    "We will be connecting to the Ergast F1 Racer API today:\n",
    "http://ergast.com/mrd/\n",
    "\n",
    "to view JSON data nicely in the Chrome browser install the extension JSONview"
   ]
  },
  {
   "cell_type": "code",
   "execution_count": 5,
   "id": "52c440c6",
   "metadata": {},
   "outputs": [],
   "source": [
    "#help(requests)"
   ]
  },
  {
   "cell_type": "code",
   "execution_count": 40,
   "id": "f60c1b4a",
   "metadata": {},
   "outputs": [],
   "source": [
    "# url = 'http://ergast.com/api/f1/2008/5/driverStandings.json'"
   ]
  },
  {
   "cell_type": "code",
   "execution_count": 41,
   "id": "7b63a204",
   "metadata": {},
   "outputs": [
    {
     "name": "stdout",
     "output_type": "stream",
     "text": [
      "<Response [200]>\n"
     ]
    }
   ],
   "source": [
    "# #response object\n",
    "# response=requests.get(url)\n",
    "# print(response)"
   ]
  },
  {
   "cell_type": "code",
   "execution_count": 32,
   "id": "c6d1fdaf",
   "metadata": {},
   "outputs": [
    {
     "data": {
      "text/plain": [
       "True"
      ]
     },
     "execution_count": 32,
     "metadata": {},
     "output_type": "execute_result"
    }
   ],
   "source": [
    "#check and make sure we got a successful response from the API\n",
    "response.ok"
   ]
  },
  {
   "cell_type": "code",
   "execution_count": 16,
   "id": "ed4d3256",
   "metadata": {},
   "outputs": [],
   "source": [
    "#view the response as a JSON\n",
    "# response.json()"
   ]
  },
  {
   "cell_type": "code",
   "execution_count": 12,
   "id": "92e6cd2c",
   "metadata": {},
   "outputs": [
    {
     "data": {
      "text/plain": [
       "dict"
      ]
     },
     "execution_count": 12,
     "metadata": {},
     "output_type": "execute_result"
    }
   ],
   "source": [
    "type(response.json())"
   ]
  },
  {
   "cell_type": "code",
   "execution_count": 43,
   "id": "f074dfcf",
   "metadata": {},
   "outputs": [],
   "source": [
    "#We only want the Driver Standings\n",
    "# data=response.json()['MRData']['StandingsTable']['StandingsLists'][0]['DriverStandings']\n",
    "# data"
   ]
  },
  {
   "cell_type": "code",
   "execution_count": 28,
   "id": "be46a950",
   "metadata": {},
   "outputs": [],
   "source": [
    "#to pull the lists in the 'DriverStandings' dic we can use for loop by assigning varable\n",
    "# for x in range(5):\n",
    "#     data=response.json()['MRData']['StandingsTable']['StandingsLists'][0]['DriverStandings'][x]\n",
    "#     print(data)"
   ]
  },
  {
   "cell_type": "code",
   "execution_count": 29,
   "id": "3740c752",
   "metadata": {},
   "outputs": [],
   "source": [
    "# we can countiune pull out the data inside the 'DriverStandings'with in the range\n",
    "\n",
    "# for x in range(5):\n",
    "#     data=response.json()['MRData']['StandingsTable']['StandingsLists'][0]['DriverStandings'][x]['Driver']['familyName']\n",
    "#     print(data)"
   ]
  },
  {
   "cell_type": "code",
   "execution_count": 13,
   "id": "06d7d033",
   "metadata": {},
   "outputs": [],
   "source": [
    "# my_racer_data=response.json()[\"MRData\"][\"StandingsTable\"][\"StandingsLists\"][0][\"DriverStandings\"]\n",
    "# my_racer_data"
   ]
  },
  {
   "cell_type": "code",
   "execution_count": 48,
   "id": "71513b08",
   "metadata": {},
   "outputs": [
    {
     "data": {
      "text/plain": [
       "[{'KimiRäikkönen': {'first_name': 'Kimi',\n",
       "   'last_name': 'Räikkönen',\n",
       "   'position': '1',\n",
       "   'win': '2',\n",
       "   'DOB': '1979-10-17',\n",
       "   'nationality': 'Finnish',\n",
       "   'constructor': 'Ferrari'}}]"
      ]
     },
     "execution_count": 48,
     "metadata": {},
     "output_type": "execute_result"
    }
   ],
   "source": [
    "def get_racer_info(data):\n",
    "    new_data=[]\n",
    "    for racer in data:\n",
    "        racer_dict={}\n",
    "        racer_name=f\"{racer['Driver']['givenName']}{racer['Driver']['familyName']}\"\n",
    "        \n",
    "        racer_dict[racer_name]={\n",
    "            'first_name': racer['Driver']['givenName'],\n",
    "            'last_name':racer['Driver']['familyName'],\n",
    "            'position':racer['position'],\n",
    "            'win': racer['wins'],\n",
    "            'DOB': racer['Driver']['dateOfBirth'],\n",
    "            'nationality':racer['Driver']['nationality'],\n",
    "            'constructor':racer['Constructors'][0]['name']\n",
    "            \n",
    "        }\n",
    "        new_data.append(racer_dict)\n",
    "        return new_data\n",
    "get_racer_info(my_racer_data)"
   ]
  },
  {
   "cell_type": "markdown",
   "id": "6d546014",
   "metadata": {},
   "source": [
    "# <strong>Homework</strong>\n",
    "Retrieve a list of Pokemon's name, abilities, types, and weight from the PokeAPI\n",
    " https://pokeapi.co/\n",
    "\n",
    "Make 20 Pokemon\n",
    "\n",
    "Whenever you need to create a POKEMON, you need to construct your Pokemon through data from the API: https://pokeapi.co/\n",
    "\n",
    "Below is an example of how your Pokemon should be categorized by Type.\n",
    "Create a dictionary\n",
    "{\n",
    "<strong>'Fire'</strong>: {\n",
    "'charizard': {\n",
    "'abilities': [],\n",
    "'weight': ,\n",
    "},\n",
    "'ninetales': {\n",
    "'abilities': [],\n",
    "'weight': ,\n",
    "}\n",
    "},\n",
    "<strong>'Flying'</strong>:,\n",
    "<strong>'Water'</strong>:\n",
    "}\n",
    "\n",
    "Remember, it may be easier to write functions to do your dirty work, and then call them to execute each topic, rather than trying to write a monstrous spaghetti-script that does it all at once; it also might be very good to plan how you'll go about this and what functions you might use before you write 500 lines of code that confuse and befuddle all who lay eyes upon it. Including yourself. An immense portion of good coding is just planning.\n",
    "\n",
    "When you're done, create a GitHub repository for your assignment and save the repository link as the assignment."
   ]
  },
  {
   "cell_type": "code",
   "execution_count": 50,
   "id": "5a9081e3",
   "metadata": {},
   "outputs": [
    {
     "name": "stdout",
     "output_type": "stream",
     "text": [
      "<Response [200]>\n"
     ]
    }
   ],
   "source": [
    "url='https://pokeapi.co/api/v2/pokemon/1'\n",
    "response=requests.get(url)\n",
    "print(response)"
   ]
  },
  {
   "cell_type": "code",
   "execution_count": 2,
   "id": "a968407c",
   "metadata": {},
   "outputs": [],
   "source": [
    "\n"
   ]
  },
  {
   "cell_type": "code",
   "execution_count": 14,
   "id": "ef538088",
   "metadata": {},
   "outputs": [],
   "source": [
    "# response.json()"
   ]
  },
  {
   "cell_type": "code",
   "execution_count": 15,
   "id": "218f27c9",
   "metadata": {},
   "outputs": [],
   "source": [
    "# from random import randint\n",
    "# import requests\n",
    "\n",
    "\n",
    "\n",
    "# url =\"https://pokeapi.co/api/v2/pokemon/\"\n",
    "# poke_list={}\n",
    "# for i in range(20):\n",
    "#     random = randint(0,700)\n",
    "#     data=requests.get(f\"https://pokeapi.co/api/v2/pokemon/{random}\")\n",
    "#     data=data.json()\n",
    "#     poke =data['name']\n",
    "#     poke_types = []\n",
    "#     for types in data['types']:\n",
    "#         poke_types.append(types['type']['name'])\n",
    "#     print(poke_types)\n",
    "\n",
    "#     my_dict = {\"name\":data['name'], \"weight\":data['weight']}\n",
    "    \n",
    "# print(my_dict)"
   ]
  },
  {
   "cell_type": "code",
   "execution_count": 12,
   "id": "46d2cc3e",
   "metadata": {},
   "outputs": [
    {
     "name": "stdout",
     "output_type": "stream",
     "text": [
      "{'Fire': {'name': 'staryu', 'abilities': [{'ability': {'name': 'illuminate', 'url': 'https://pokeapi.co/api/v2/ability/35/'}, 'is_hidden': False, 'slot': 1}, {'ability': {'name': 'natural-cure', 'url': 'https://pokeapi.co/api/v2/ability/30/'}, 'is_hidden': False, 'slot': 2}, {'ability': {'name': 'analytic', 'url': 'https://pokeapi.co/api/v2/ability/148/'}, 'is_hidden': True, 'slot': 3}], 'weight': 345}, 'Flying': {'name': 'staryu', 'abilities': [{'ability': {'name': 'illuminate', 'url': 'https://pokeapi.co/api/v2/ability/35/'}, 'is_hidden': False, 'slot': 1}, {'ability': {'name': 'natural-cure', 'url': 'https://pokeapi.co/api/v2/ability/30/'}, 'is_hidden': False, 'slot': 2}, {'ability': {'name': 'analytic', 'url': 'https://pokeapi.co/api/v2/ability/148/'}, 'is_hidden': True, 'slot': 3}], 'weight': 345}, 'Water': {'name': 'staryu', 'abilities': [{'ability': {'name': 'illuminate', 'url': 'https://pokeapi.co/api/v2/ability/35/'}, 'is_hidden': False, 'slot': 1}, {'ability': {'name': 'natural-cure', 'url': 'https://pokeapi.co/api/v2/ability/30/'}, 'is_hidden': False, 'slot': 2}, {'ability': {'name': 'analytic', 'url': 'https://pokeapi.co/api/v2/ability/148/'}, 'is_hidden': True, 'slot': 3}], 'weight': 345}, 'poison': {'name': 'staryu', 'abilities': [{'ability': {'name': 'illuminate', 'url': 'https://pokeapi.co/api/v2/ability/35/'}, 'is_hidden': False, 'slot': 1}, {'ability': {'name': 'natural-cure', 'url': 'https://pokeapi.co/api/v2/ability/30/'}, 'is_hidden': False, 'slot': 2}, {'ability': {'name': 'analytic', 'url': 'https://pokeapi.co/api/v2/ability/148/'}, 'is_hidden': True, 'slot': 3}], 'weight': 345}}\n"
     ]
    }
   ],
   "source": [
    "from random import randint\n",
    "import requests\n",
    "\n",
    "\n",
    "\n",
    "url =\"https://pokeapi.co/api/v2/pokemon/\"\n",
    "poke_list={}\n",
    "for i in range(20):\n",
    "    random = randint(0,900)\n",
    "    data=requests.get(f\"https://pokeapi.co/api/v2/pokemon/{random}\")\n",
    "    data=data.json()\n",
    "    poke =data['name']\n",
    "    poke_types = []\n",
    "    for types in data['types']:\n",
    "        poke_types.append(types['type']['name'])\n",
    " \n",
    "\n",
    "    my_dict = {\"Fire\": {\"name\":data['name'],\n",
    "                        \"abilities\": data[\"abilities\"],\n",
    "                        \"weight\": data[\"weight\"]},\n",
    "               \n",
    "               \"Flying\": {\"name\":data['name'],\n",
    "                        \"abilities\": data[\"abilities\"],\n",
    "                        \"weight\": data[\"weight\"]},\n",
    "               \n",
    "               \"Water\": {\"name\":data['name'],\n",
    "                        \"abilities\": data[\"abilities\"],\n",
    "                        \"weight\": data[\"weight\"]},\n",
    "               \n",
    "               \"poison\": {\"name\":data['name'],\n",
    "                        \"abilities\": data[\"abilities\"],\n",
    "                        \"weight\": data[\"weight\"]}\n",
    "              }\n",
    "    \n",
    "print(my_dict)"
   ]
  },
  {
   "cell_type": "code",
   "execution_count": null,
   "id": "863396fb",
   "metadata": {},
   "outputs": [],
   "source": []
  }
 ],
 "metadata": {
  "kernelspec": {
   "display_name": "Python 3 (ipykernel)",
   "language": "python",
   "name": "python3"
  },
  "language_info": {
   "codemirror_mode": {
    "name": "ipython",
    "version": 3
   },
   "file_extension": ".py",
   "mimetype": "text/x-python",
   "name": "python",
   "nbconvert_exporter": "python",
   "pygments_lexer": "ipython3",
   "version": "3.11.5"
  }
 },
 "nbformat": 4,
 "nbformat_minor": 5
}
